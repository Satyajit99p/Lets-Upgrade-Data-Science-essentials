{
 "cells": [
  {
   "cell_type": "code",
   "execution_count": 19,
   "metadata": {},
   "outputs": [
    {
     "name": "stdout",
     "output_type": "stream",
     "text": [
      "1 2 3 4 5\n",
      "6 7 8 9 0\n",
      "[[1 2 3 4 5]]\n",
      "[[0 6 7 8 9]]\n",
      "[[1 2 3 4 5 0 6 7 8 9]]\n"
     ]
    }
   ],
   "source": [
    "import numpy as np\n",
    "x=list([int(i) for i in input().split()])\n",
    "y=list([int(i) for i in input().split()])\n",
    "x.sort()\n",
    "y.sort()\n",
    "x=np.array(x)\n",
    "y=np.array(y)\n",
    "x=x.reshape(1,5)\n",
    "y=y.reshape(1,5)\n",
    "z=np.concatenate((x,y),axis=1)\n",
    "print(x)\n",
    "print(y)\n",
    "print(z)"
   ]
  },
  {
   "cell_type": "code",
   "execution_count": null,
   "metadata": {},
   "outputs": [],
   "source": []
  }
 ],
 "metadata": {
  "kernelspec": {
   "display_name": "Python 3",
   "language": "python",
   "name": "python3"
  },
  "language_info": {
   "codemirror_mode": {
    "name": "ipython",
    "version": 3
   },
   "file_extension": ".py",
   "mimetype": "text/x-python",
   "name": "python",
   "nbconvert_exporter": "python",
   "pygments_lexer": "ipython3",
   "version": "3.7.6"
  }
 },
 "nbformat": 4,
 "nbformat_minor": 4
}
